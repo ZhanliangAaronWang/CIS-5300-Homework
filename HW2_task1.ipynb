{
 "cells": [
  {
   "cell_type": "code",
   "execution_count": 12,
   "metadata": {},
   "outputs": [],
   "source": [
    "import pandas as pd\n",
    "from collections import defaultdict, Counter\n",
    "import random\n",
    "import math\n",
    "import csv"
   ]
  },
  {
   "cell_type": "code",
   "execution_count": 10,
   "metadata": {},
   "outputs": [],
   "source": [
    "def load_data(file_path_x, file_path_y=None):\n",
    "    words = []\n",
    "    tags = []\n",
    "\n",
    "    with open(file_path_x, 'r') as file_x:\n",
    "        reader_x = csv.reader(file_x)\n",
    "        words = [row[0] for row in reader_x]\n",
    "\n",
    "    if file_path_y:\n",
    "        with open(file_path_y, 'r') as file_y:\n",
    "            reader_y = csv.reader(file_y)\n",
    "            tags = [row[0] for row in reader_y]\n",
    "    \n",
    "    return words, tags\n",
    "\n",
    "train_words, train_tags = load_data('train_x.csv', 'train_y.csv')\n",
    "dev_words, dev_tags = load_data('dev_x.csv', 'dev_y.csv')\n",
    "test_words, _ = load_data('test_x.csv') \n"
   ]
  },
  {
   "cell_type": "code",
   "execution_count": null,
   "metadata": {},
   "outputs": [],
   "source": [
    "class TrigramTagger:\n",
    "    def __init__(self):\n",
    "        self.trigram_counts = defaultdict(lambda: defaultdict(int))\n",
    "        self.bigram_counts = defaultdict(lambda: defaultdict(int))\n",
    "        self.unigram_counts = defaultdict(int)\n",
    "        self.emission_counts = defaultdict(lambda: defaultdict(int))\n",
    "        self.total_tags = 0\n",
    "        self.tagset = set()\n",
    "\n",
    "    def train(self, sentences):\n",
    "        for sentence in sentences:\n",
    "            previous_tags = ['<s>', '<s>'] \n",
    "            for word, tag in sentence:\n",
    "                self.trigram_counts[tuple(previous_tags)][tag] += 1\n",
    "                self.bigram_counts[tuple(previous_tags[:2])][tag] += 1\n",
    "                self.unigram_counts[tag] += 1\n",
    "                self.emission_counts[tag][word.lower()] += 1\n",
    "                self.total_tags += 1\n",
    "                previous_tags = [previous_tags[1], tag]\n",
    "            self.trigram_counts[tuple(previous_tags)]['</s>'] += 1 \n",
    "\n",
    "    def trigram_prob(self, prev_tags, tag):\n",
    "        return (self.trigram_counts[tuple(prev_tags)][tag] + 1) / \\\n",
    "               (self.bigram_counts[tuple(prev_tags[:2])][tag] + len(self.tagset))\n",
    "\n",
    "    def emission_prob(self, tag, word):\n",
    "        return (self.emission_counts[tag][word.lower()] + 1) / \\\n",
    "               (self.unigram_counts[tag] + len(self.emission_counts[tag]))\n",
    "\n",
    "    def tag_sentence(self, sentence):\n",
    "        prev_tags = ['<s>', '<s>']\n",
    "        tagged_sentence = []\n",
    "        for word in sentence:\n",
    "            best_tag = None\n",
    "            max_prob = 0\n",
    "            for tag in self.tagset:\n",
    "                prob = self.trigram_prob(prev_tags, tag) * self.emission_prob(tag, word)\n",
    "                if prob > max_prob:\n",
    "                    max_prob = prob\n",
    "                    best_tag = tag\n",
    "            tagged_sentence.append((word, best_tag))\n",
    "            prev_tags = [prev_tags[1], best_tag]\n",
    "        return tagged_sentence\n"
   ]
  },
  {
   "cell_type": "code",
   "execution_count": null,
   "metadata": {},
   "outputs": [],
   "source": [
    "class TrigramTaggerWithSmoothing(TrigramTagger):\n",
    "    def __init__(self, k=1):\n",
    "        super().__init__()\n",
    "        self.k = k \n",
    "\n",
    "    def trigram_prob(self, prev_tags, tag):\n",
    "        return (self.trigram_counts[tuple(prev_tags)][tag] + self.k) / \\\n",
    "               (self.bigram_counts[tuple(prev_tags[:2])][tag] + self.k * len(self.tagset))\n"
   ]
  }
 ],
 "metadata": {
  "kernelspec": {
   "display_name": "LLM_finetune",
   "language": "python",
   "name": "python3"
  },
  "language_info": {
   "codemirror_mode": {
    "name": "ipython",
    "version": 3
   },
   "file_extension": ".py",
   "mimetype": "text/x-python",
   "name": "python",
   "nbconvert_exporter": "python",
   "pygments_lexer": "ipython3",
   "version": "3.11.9"
  }
 },
 "nbformat": 4,
 "nbformat_minor": 2
}
